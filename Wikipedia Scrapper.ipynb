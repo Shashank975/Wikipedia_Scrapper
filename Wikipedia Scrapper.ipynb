{
 "cells": [
  {
   "cell_type": "markdown",
   "id": "d4915877",
   "metadata": {},
   "source": [
    "# Author - Shashank Chhoker "
   ]
  },
  {
   "cell_type": "markdown",
   "id": "f889ca32",
   "metadata": {},
   "source": [
    "# Topic : Wikipedia Scraper"
   ]
  },
  {
   "cell_type": "code",
   "execution_count": null,
   "id": "1ab45e19",
   "metadata": {},
   "outputs": [],
   "source": [
    "import requests\n",
    "import sys\n",
    "from bs4 import BeautifulSoup"
   ]
  },
  {
   "cell_type": "code",
   "execution_count": null,
   "id": "44d222fe",
   "metadata": {},
   "outputs": [],
   "source": [
    "title=str(input(\"Enter the topic :\")).replace(' ','+')\n",
    "link='https://www.google.com/search?q='+ title + 'wikipedia'\n",
    "\n",
    "res=requests.get(link)\n",
    "soup=BeautifulSoup(res.text,'html.parser')\n",
    "\n",
    "for sp in soup.find_all('div'):\n",
    "    try:\n",
    "        \n",
    "        link=(sp.find('a').get('href'))\n",
    "        if (\"en.wikipedia.org\" in link): \n",
    "            \n",
    "            break\n",
    "    except:\n",
    "        pass\n",
    "link = link[7:].split('&')[0]"
   ]
  },
  {
   "cell_type": "code",
   "execution_count": null,
   "id": "7b060f29",
   "metadata": {},
   "outputs": [],
   "source": [
    "Title=title.replace('+',' ')\n",
    "print(Title)"
   ]
  },
  {
   "cell_type": "code",
   "execution_count": null,
   "id": "1fc39863",
   "metadata": {},
   "outputs": [],
   "source": [
    "soup"
   ]
  },
  {
   "cell_type": "code",
   "execution_count": null,
   "id": "217953a2",
   "metadata": {},
   "outputs": [],
   "source": [
    "print(soup.text.replace('\\n\\n',''))"
   ]
  },
  {
   "cell_type": "code",
   "execution_count": null,
   "id": "e3404f7e",
   "metadata": {},
   "outputs": [],
   "source": [
    "res=requests.get(link)\n",
    "soup=BeautifulSoup(res.text,'html.parser')\n",
    "\n",
    "corpus= ''\n",
    "\n",
    "for p in soup.find_all('p'):\n",
    "    corpus +=p.text\n",
    "    corpus +='\\n'\n",
    "corpus=corpus.strip()\n",
    "print(corpus)   "
   ]
  },
  {
   "cell_type": "code",
   "execution_count": null,
   "id": "7b7f52fc",
   "metadata": {},
   "outputs": [],
   "source": [
    "for i in range (3,467):\n",
    "    corpus=corpus.replace('['+str(i)+']','')\n"
   ]
  },
  {
   "cell_type": "code",
   "execution_count": null,
   "id": "fdab8b1a",
   "metadata": {},
   "outputs": [],
   "source": [
    "print(corpus)"
   ]
  },
  {
   "cell_type": "code",
   "execution_count": null,
   "id": "cccc26d2",
   "metadata": {},
   "outputs": [],
   "source": [
    "fd=open(Title + '.txt','w',encoding=\"utf-8\")\n",
    "fd.write(corpus)\n",
    "fd.close()"
   ]
  },
  {
   "cell_type": "code",
   "execution_count": null,
   "id": "0f1a6368",
   "metadata": {},
   "outputs": [],
   "source": []
  }
 ],
 "metadata": {
  "kernelspec": {
   "display_name": "Python 3 (ipykernel)",
   "language": "python",
   "name": "python3"
  },
  "language_info": {
   "codemirror_mode": {
    "name": "ipython",
    "version": 3
   },
   "file_extension": ".py",
   "mimetype": "text/x-python",
   "name": "python",
   "nbconvert_exporter": "python",
   "pygments_lexer": "ipython3",
   "version": "3.11.1"
  }
 },
 "nbformat": 4,
 "nbformat_minor": 5
}
